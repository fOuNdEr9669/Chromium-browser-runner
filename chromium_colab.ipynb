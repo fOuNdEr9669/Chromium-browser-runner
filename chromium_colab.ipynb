
---

#### 3. `chromium_colab.ipynb`

Here's the Python code wrapped into a Colab notebook. It uses Selenium to automate Chromium, captures a screenshot, and displays it in the notebook.

```python
# Install dependencies
!pip install selenium chromedriver-autoinstaller flask

# Import necessary libraries
from selenium import webdriver
import chromedriver_autoinstaller
from IPython.display import Image, display
import os

# Ensure Chromium and Chromedriver are installed
chromedriver_autoinstaller.install()

# Configure Selenium WebDriver for Chromium
options = webdriver.ChromeOptions()
options.add_argument("--headless")  # Run Chromium in headless mode
options.add_argument("--no-sandbox")
options.add_argument("--disable-dev-shm-usage")

# Launch Chromium with Selenium
driver = webdriver.Chrome(options=options)
driver.get("https://www.google.com")  # Open Google as an example

# Take a screenshot and save it
output_dir = "/content/screenshots"
os.makedirs(output_dir, exist_ok=True)
screenshot_path = os.path.join(output_dir, "screenshot.png")
driver.save_screenshot(screenshot_path)

# Quit the driver
driver.quit()

# Display the screenshot in the notebook
display(Image(screenshot_path))
